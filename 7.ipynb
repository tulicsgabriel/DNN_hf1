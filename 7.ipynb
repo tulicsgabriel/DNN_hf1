# -*- coding: utf-8 -*-
"""
Created on Fri Sep  9 00:08:52 2016

@author: Tulics Miklós Gábriel
"""
# 7. Python vagy LUA nyelven olvass be egy tetszőleges hangfájlt 
# és jelenítsd meg a spektrogramját (Pythonban: Matplotlib/specgram()). 

import os
import matplotlib.pyplot as plt
from scipy.io import wavfile

def Get_Spectrogram(wav_file):
    [fs, data] = wavfile.read(wav_file)       
    nfft = 512  # felosztás nagyságának állítása -> bin width is equal to the sampling fs/nfft
    pxx, freqs, bins, im = plt.specgram(data, nfft,fs)
    #Spektrogram beállítások és kép mentése
    plt.title('"you don''t get to tell me what to do ever again"')
    plt.xlabel('Time (sec)')
    plt.ylabel('Frequency (Hz)')
    plt.savefig('Output' + '/'+ 'spectrogram.png')

if __name__ == '__main__': # Main function
    if not os.path.exists('Output'):
        os.makedirs('Output')
    wav = 'Input' + '/'+'ever_again.wav' 
    Get_Spectrogram(wav)
