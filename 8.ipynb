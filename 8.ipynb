import collections
import matplotlib.pyplot as plt
import numpy as np

"""
Created on Wed Sep 7 22:16:47 2016

@author: Tulics Miklós Gábriel
"""

# 8. Python vagy LUA nyelven olvass be egy tetszőleges angol nyelvű szöveges (txt) 
# filet és hisztogramon jelenítsd meg a betűk előfordulásának gyakoriságát.
#Ez alapján csináltam
#http://codereview.stackexchange.com/questions/129412/histogram-of-a-string

#Szöveges fájl beolvasása
with open('Input' + '/' + '8.txt', 'r') as content_file:
    content = content_file.read()

#Szöveg tisztítása fölösleges karakterektől
content = content.lower()   
content = content.replace(' ', '')
content = content.replace('\'', '')
content = content.replace('.', '')
content = content.replace(',', '')
content = content.replace(';', '')
content = content.replace('\n', '')
content = content.replace('\t', '')
#Counter függvény megmondja a gyakoriságokat
lettersFreq = collections.Counter(content.replace('\n', ''))
#A gyakoriságokat szétválasztom érték és kulcs alapján
counts = lettersFreq.values()
letters = lettersFreq.keys()

#Hisztogram beállítások és plot
bar_x_locations = np.arange(len(counts))
plt.bar(bar_x_locations, counts, align = 'center')
plt.xticks(bar_x_locations, list(letters))
plt.title('"Where Did You Sleep Last Night?" (originally by Lead Belly)')
plt.ylabel('Frequency')
plt.xlabel('Characters')
plt.grid()
plt.show()
  

    
