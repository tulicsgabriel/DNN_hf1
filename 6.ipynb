# -*- coding: utf-8 -*-
"""
Created on Thu Sep  8 17:29:43 2016

@author: Tulics Miklós Gábriel
"""

# 5. Python vagy LUA nyelven olvass be öt darab tetszőleges 32x32 pixeles színes képet, 
# jelenítsd meg és írd ki az RGB csatornáit tartalmazó tömbök (mátrixok, tensorok) 
# tartalmát.
# Kiindulási alap:
#http://stackoverflow.com/questions/22777660/display-an-rgb-matrix-image-in-python
#http://stackoverflow.com/questions/2659312/how-do-i-convert-a-numpy-array-to-and-display-an-image
#
# Függvények
# Beolvasáshoz
def myfunction1(r, g, b, rgb_pic ):
    x = 0
    y = 0    
    while (y < 32):    
        while (x < 32):
            #print("{0} {1}\n".format(x, y))
            r, g, b = rgb_pic.getpixel((x, y)) 
            RList.append(r)
            GList.append(g)
            BList.append(b)
            f.write('{0} {1} {2}; '.format(r, g, b))
            x += 1
        f.write("\n")
        if y < 32:
            y += 1
        else:
            break
        x = 0
        
# Normalizáláshoz
def myfunction2(r, g, b, rgb_pic ):
    x = 0
    y = 0
    while (y < 32):
        while (x < 32):
            r, g, b = rgb_pic.getpixel((x, y)) 
            r = (r-R_average)/R_std
            g = (g-G_average)/G_std
            b = (b-B_average)/B_std
            f2.write('{0} {1} {2}; '.format(r, g, b))
            x += 1
        f2.write("\n")
        if y < 32:
            y += 1
        else:
            break
        x = 0
    
## innen kezdődik a progi
import numpy as np
import os
from PIL import Image

if not os.path.exists('Output'):
    os.makedirs('Output')

# beolvas és megjelenít (az kommentben van, mert idegesítő, hogy folyton megjelenik)
pic1 = Image.open('Input' + '/' +'Alyson_Hannigan.png')
#pic1.show() 
pic2=Image.open('Input' + '/' 'SuperMario.png')
#pic2.show() 
pic3=Image.open('Input' + '/' 'Ok.png')
#pic3.show() 
pic4=Image.open('Input' + '/' 'Mouse_pointer.png')
#pic4.show() 
pic5=Image.open('Input' + '/' 'Error.png')
#pic5.show() 

# RGB kinyerése
rgb_pic1 = pic1.convert('RGB')
r1, g1, b1 = rgb_pic1.getpixel((1, 1))
rgb_pic2 = pic2.convert('RGB')
r2, g2, b2 = rgb_pic2.getpixel((1, 1))
rgb_pic3 = pic3.convert('RGB')
r3, g3, b3 = rgb_pic3.getpixel((1, 1))
rgb_pic4 = pic4.convert('RGB')
r4, g4, b4 = rgb_pic4.getpixel((1, 1))
rgb_pic5 = pic5.convert('RGB')
r5, g5, b5 = rgb_pic5.getpixel((1, 1))

RList = []
GList = []
BList = []

#tartalom kiírása fileba
f = open(os.path.join('Output','RGB.txt'),"w")
f.write("pic1: \n\n")
myfunction1(r1,g1,b1, rgb_pic1)
f.write("\n\npic2: \n\n")
myfunction1(r2,g2,b2, rgb_pic2)
f.write("\n\npic3: \n\n")
myfunction1(r3,g3,b3, rgb_pic3)
f.write("\n\npic4: \n\n")
myfunction1(r4,g4,b4, rgb_pic4)
f.write("\n\npic5: \n\n")
myfunction1(r5,g5,b5, rgb_pic5)
f.close()
print("Az 5 kép RGB kiolvasása lefutott.")

# 6. Csatornánként számold ki az egyes pixelek átlagát és szórását az öt képre, 
#majd alakítsd át ezeket 0 várható értékű, 1 szórású adathalmazzá. 
#(Pythonban: sklearn.preprocessing.StandardScaler, „kézi” megoldás még jobb!)


# Ezt én úgy értelmeztem, hogy az 5 képre együttesen határozok meg az átlagot és a szórást
# és az alapján végzem a normalizálást. 
# Természetesen úgy is lehet érteni, hogy 5 képre külön.
R_average = sum(RList) / float(len(RList)) #np.average(RList) ugyanezt adja
G_average = sum(GList) / float(len(GList))
B_average = sum(BList) / float(len(BList))
R_std = np.std(RList, axis=0, ddof=1)
G_std = np.std(GList, axis=0, ddof=1)
B_std = np.std(BList, axis=0, ddof=1)

#print("R average számolva:{0}".format(R_average))
#print("R std:{0}".format(R_std))

f2 = open(os.path.join('Output','RGB_norm.txt'),"w")
f2.write("pic1 Norm: \n\n")
myfunction2(r1, g1, b1, rgb_pic1)
f2.write("\n\npic2 Norm: \n\n")
myfunction2(r2,g2,b2, rgb_pic2)
f2.write("\n\npic3 Norm: \n\n")
myfunction2(r3,g3,b3, rgb_pic3)
f2.write("\n\npic4 Norm: \n\n")
myfunction2(r4,g4,b4, rgb_pic4)
f2.write("\n\npic5 Norm: \n\n")
myfunction2(r5,g5,b5, rgb_pic5)
f2.close()
